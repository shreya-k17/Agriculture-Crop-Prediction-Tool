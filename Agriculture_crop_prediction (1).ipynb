{
  "nbformat": 4,
  "nbformat_minor": 0,
  "metadata": {
    "colab": {
      "provenance": []
    },
    "kernelspec": {
      "name": "python3",
      "display_name": "Python 3"
    },
    "language_info": {
      "name": "python"
    },
    "widgets": {
      "application/vnd.jupyter.widget-state+json": {
        "36858320cb7744a0834a0db753340723": {
          "model_module": "@jupyter-widgets/controls",
          "model_name": "VBoxModel",
          "model_module_version": "1.5.0",
          "state": {
            "_dom_classes": [
              "widget-interact"
            ],
            "_model_module": "@jupyter-widgets/controls",
            "_model_module_version": "1.5.0",
            "_model_name": "VBoxModel",
            "_view_count": null,
            "_view_module": "@jupyter-widgets/controls",
            "_view_module_version": "1.5.0",
            "_view_name": "VBoxView",
            "box_style": "",
            "children": [
              "IPY_MODEL_338e7e1e3270400fbcb824fdd315c06f",
              "IPY_MODEL_ea63ee8b64754d5a970938e5d8567610"
            ],
            "layout": "IPY_MODEL_62fee40fad7e4c41aca2c4054eb9f4a5"
          }
        },
        "338e7e1e3270400fbcb824fdd315c06f": {
          "model_module": "@jupyter-widgets/controls",
          "model_name": "DropdownModel",
          "model_module_version": "1.5.0",
          "state": {
            "_dom_classes": [],
            "_model_module": "@jupyter-widgets/controls",
            "_model_module_version": "1.5.0",
            "_model_name": "DropdownModel",
            "_options_labels": [
              "rice",
              "maize",
              "jute",
              "cotton",
              "coconut",
              "papaya",
              "orange",
              "apple",
              "muskmelon",
              "watermelon",
              "grapes",
              "mango",
              "banana",
              "pomegranate",
              "lentil",
              "blackgram",
              "mungbean",
              "mothbeans",
              "pigeonpeas",
              "kidneybeans",
              "chickpea",
              "coffee"
            ],
            "_view_count": null,
            "_view_module": "@jupyter-widgets/controls",
            "_view_module_version": "1.5.0",
            "_view_name": "DropdownView",
            "description": "crops",
            "description_tooltip": null,
            "disabled": false,
            "index": 0,
            "layout": "IPY_MODEL_ab227d17c30b42e9b63e6355135b1b62",
            "style": "IPY_MODEL_040ab056867f4eed83127d7868059978"
          }
        },
        "ea63ee8b64754d5a970938e5d8567610": {
          "model_module": "@jupyter-widgets/output",
          "model_name": "OutputModel",
          "model_module_version": "1.0.0",
          "state": {
            "_dom_classes": [],
            "_model_module": "@jupyter-widgets/output",
            "_model_module_version": "1.0.0",
            "_model_name": "OutputModel",
            "_view_count": null,
            "_view_module": "@jupyter-widgets/output",
            "_view_module_version": "1.0.0",
            "_view_name": "OutputView",
            "layout": "IPY_MODEL_3b8d322970554ba6abd8a7e34d96757a",
            "msg_id": "",
            "outputs": [
              {
                "output_type": "stream",
                "name": "stdout",
                "text": [
                  "-----------------------------------------------------------\n",
                  "Statistics for Nitrogen\n",
                  "min nitrogen requirement : 60.00\n",
                  "Average nitrogen requirement : 79.89\n",
                  "max nitrogen requirement : 99.00\n",
                  "-----------------------------------------------------------\n",
                  "Statistics for Phosphorous\n",
                  "min Phosphorous requirement : 35.00\n",
                  "Average Phosphorous requirement : 47.58\n",
                  "max Phosphorous requirement : 60.00\n",
                  "-----------------------------------------------------------\n",
                  "Statistics for Potassium\n",
                  "min Potassium requirement : 35.00\n",
                  "Average Potassium requirement : 39.87\n",
                  "max Potassium requirement : 45.00\n",
                  "-----------------------------------------------------------\n",
                  "Statistics for Temperature\n",
                  "min temperature requirement : 20.05\n",
                  "Average temperature requirement : 23.69\n",
                  "max temperature requirement : 26.93\n",
                  "-----------------------------------------------------------\n",
                  "Statistics for Humidity\n",
                  "min humidity requirement : 80.12\n",
                  "Average humidity requirement : 82.27\n",
                  "max humidity requirement : 84.97\n",
                  "-----------------------------------------------------------\n",
                  "Statistics for Ph\n",
                  "min ph requirement : 5.01\n",
                  "Average ph requirement : 6.43\n",
                  "max ph requirement : 7.87\n",
                  "-----------------------------------------------------------\n",
                  "Statistics for Rainfall\n",
                  "min rainfall requirement : 182.56\n",
                  "Average rainfall requirement : 236.18\n",
                  "max rainfall requirement : 298.56\n"
                ]
              }
            ]
          }
        },
        "62fee40fad7e4c41aca2c4054eb9f4a5": {
          "model_module": "@jupyter-widgets/base",
          "model_name": "LayoutModel",
          "model_module_version": "1.2.0",
          "state": {
            "_model_module": "@jupyter-widgets/base",
            "_model_module_version": "1.2.0",
            "_model_name": "LayoutModel",
            "_view_count": null,
            "_view_module": "@jupyter-widgets/base",
            "_view_module_version": "1.2.0",
            "_view_name": "LayoutView",
            "align_content": null,
            "align_items": null,
            "align_self": null,
            "border": null,
            "bottom": null,
            "display": null,
            "flex": null,
            "flex_flow": null,
            "grid_area": null,
            "grid_auto_columns": null,
            "grid_auto_flow": null,
            "grid_auto_rows": null,
            "grid_column": null,
            "grid_gap": null,
            "grid_row": null,
            "grid_template_areas": null,
            "grid_template_columns": null,
            "grid_template_rows": null,
            "height": null,
            "justify_content": null,
            "justify_items": null,
            "left": null,
            "margin": null,
            "max_height": null,
            "max_width": null,
            "min_height": null,
            "min_width": null,
            "object_fit": null,
            "object_position": null,
            "order": null,
            "overflow": null,
            "overflow_x": null,
            "overflow_y": null,
            "padding": null,
            "right": null,
            "top": null,
            "visibility": null,
            "width": null
          }
        },
        "ab227d17c30b42e9b63e6355135b1b62": {
          "model_module": "@jupyter-widgets/base",
          "model_name": "LayoutModel",
          "model_module_version": "1.2.0",
          "state": {
            "_model_module": "@jupyter-widgets/base",
            "_model_module_version": "1.2.0",
            "_model_name": "LayoutModel",
            "_view_count": null,
            "_view_module": "@jupyter-widgets/base",
            "_view_module_version": "1.2.0",
            "_view_name": "LayoutView",
            "align_content": null,
            "align_items": null,
            "align_self": null,
            "border": null,
            "bottom": null,
            "display": null,
            "flex": null,
            "flex_flow": null,
            "grid_area": null,
            "grid_auto_columns": null,
            "grid_auto_flow": null,
            "grid_auto_rows": null,
            "grid_column": null,
            "grid_gap": null,
            "grid_row": null,
            "grid_template_areas": null,
            "grid_template_columns": null,
            "grid_template_rows": null,
            "height": null,
            "justify_content": null,
            "justify_items": null,
            "left": null,
            "margin": null,
            "max_height": null,
            "max_width": null,
            "min_height": null,
            "min_width": null,
            "object_fit": null,
            "object_position": null,
            "order": null,
            "overflow": null,
            "overflow_x": null,
            "overflow_y": null,
            "padding": null,
            "right": null,
            "top": null,
            "visibility": null,
            "width": null
          }
        },
        "040ab056867f4eed83127d7868059978": {
          "model_module": "@jupyter-widgets/controls",
          "model_name": "DescriptionStyleModel",
          "model_module_version": "1.5.0",
          "state": {
            "_model_module": "@jupyter-widgets/controls",
            "_model_module_version": "1.5.0",
            "_model_name": "DescriptionStyleModel",
            "_view_count": null,
            "_view_module": "@jupyter-widgets/base",
            "_view_module_version": "1.2.0",
            "_view_name": "StyleView",
            "description_width": ""
          }
        },
        "3b8d322970554ba6abd8a7e34d96757a": {
          "model_module": "@jupyter-widgets/base",
          "model_name": "LayoutModel",
          "model_module_version": "1.2.0",
          "state": {
            "_model_module": "@jupyter-widgets/base",
            "_model_module_version": "1.2.0",
            "_model_name": "LayoutModel",
            "_view_count": null,
            "_view_module": "@jupyter-widgets/base",
            "_view_module_version": "1.2.0",
            "_view_name": "LayoutView",
            "align_content": null,
            "align_items": null,
            "align_self": null,
            "border": null,
            "bottom": null,
            "display": null,
            "flex": null,
            "flex_flow": null,
            "grid_area": null,
            "grid_auto_columns": null,
            "grid_auto_flow": null,
            "grid_auto_rows": null,
            "grid_column": null,
            "grid_gap": null,
            "grid_row": null,
            "grid_template_areas": null,
            "grid_template_columns": null,
            "grid_template_rows": null,
            "height": null,
            "justify_content": null,
            "justify_items": null,
            "left": null,
            "margin": null,
            "max_height": null,
            "max_width": null,
            "min_height": null,
            "min_width": null,
            "object_fit": null,
            "object_position": null,
            "order": null,
            "overflow": null,
            "overflow_x": null,
            "overflow_y": null,
            "padding": null,
            "right": null,
            "top": null,
            "visibility": null,
            "width": null
          }
        },
        "ac1e80376f0843deb2811981fac3ef57": {
          "model_module": "@jupyter-widgets/controls",
          "model_name": "VBoxModel",
          "model_module_version": "1.5.0",
          "state": {
            "_dom_classes": [
              "widget-interact"
            ],
            "_model_module": "@jupyter-widgets/controls",
            "_model_module_version": "1.5.0",
            "_model_name": "VBoxModel",
            "_view_count": null,
            "_view_module": "@jupyter-widgets/controls",
            "_view_module_version": "1.5.0",
            "_view_name": "VBoxView",
            "box_style": "",
            "children": [
              "IPY_MODEL_df0422d98be74a508d8bfef45a365777",
              "IPY_MODEL_29132d9de6da427590105ff26f379092"
            ],
            "layout": "IPY_MODEL_73b087f57487440eb867d781e357217f"
          }
        },
        "df0422d98be74a508d8bfef45a365777": {
          "model_module": "@jupyter-widgets/controls",
          "model_name": "DropdownModel",
          "model_module_version": "1.5.0",
          "state": {
            "_dom_classes": [],
            "_model_module": "@jupyter-widgets/controls",
            "_model_module_version": "1.5.0",
            "_model_name": "DropdownModel",
            "_options_labels": [
              "N",
              "P",
              "K",
              "temperature",
              "humidity",
              "ph",
              "rainfall"
            ],
            "_view_count": null,
            "_view_module": "@jupyter-widgets/controls",
            "_view_module_version": "1.5.0",
            "_view_name": "DropdownView",
            "description": "condition",
            "description_tooltip": null,
            "disabled": false,
            "index": 0,
            "layout": "IPY_MODEL_f6d14d229e5841eb9b1543a1db756e75",
            "style": "IPY_MODEL_eb1b7b13fb0a4df3be2ae7b373bdd725"
          }
        },
        "29132d9de6da427590105ff26f379092": {
          "model_module": "@jupyter-widgets/output",
          "model_name": "OutputModel",
          "model_module_version": "1.0.0",
          "state": {
            "_dom_classes": [],
            "_model_module": "@jupyter-widgets/output",
            "_model_module_version": "1.0.0",
            "_model_name": "OutputModel",
            "_view_count": null,
            "_view_module": "@jupyter-widgets/output",
            "_view_module_version": "1.0.0",
            "_view_name": "OutputView",
            "layout": "IPY_MODEL_c96daf365a1d47b5817b2fa86ed1cf6f",
            "msg_id": "",
            "outputs": [
              {
                "output_type": "stream",
                "name": "stdout",
                "text": [
                  "-----------------------------\n",
                  "Average  N  requirements for all the crops.\n",
                  "chickpea   :40.09\n",
                  "watermelon :99.42\n",
                  "kidneybeans:20.75\n",
                  "cotton     :117.77\n",
                  "grapes     :23.18\n",
                  "jute       :78.40\n",
                  "pigeonpeas :20.73\n",
                  "apple      :20.80\n",
                  "blackgram  :40.02\n",
                  "orange     :19.58\n",
                  "coffee     :101.20\n",
                  "mothbeans  :21.44\n",
                  "maize      :77.76\n",
                  "muskmelon  :100.32\n",
                  "papaya     :49.88\n",
                  "lentil     :18.77\n",
                  "mungbean   :20.99\n",
                  "coconut    :21.98\n",
                  "rice       :79.89\n",
                  "banana     :100.23\n",
                  "mango      :20.07\n",
                  "pomegranate:18.87\n"
                ]
              }
            ]
          }
        },
        "73b087f57487440eb867d781e357217f": {
          "model_module": "@jupyter-widgets/base",
          "model_name": "LayoutModel",
          "model_module_version": "1.2.0",
          "state": {
            "_model_module": "@jupyter-widgets/base",
            "_model_module_version": "1.2.0",
            "_model_name": "LayoutModel",
            "_view_count": null,
            "_view_module": "@jupyter-widgets/base",
            "_view_module_version": "1.2.0",
            "_view_name": "LayoutView",
            "align_content": null,
            "align_items": null,
            "align_self": null,
            "border": null,
            "bottom": null,
            "display": null,
            "flex": null,
            "flex_flow": null,
            "grid_area": null,
            "grid_auto_columns": null,
            "grid_auto_flow": null,
            "grid_auto_rows": null,
            "grid_column": null,
            "grid_gap": null,
            "grid_row": null,
            "grid_template_areas": null,
            "grid_template_columns": null,
            "grid_template_rows": null,
            "height": null,
            "justify_content": null,
            "justify_items": null,
            "left": null,
            "margin": null,
            "max_height": null,
            "max_width": null,
            "min_height": null,
            "min_width": null,
            "object_fit": null,
            "object_position": null,
            "order": null,
            "overflow": null,
            "overflow_x": null,
            "overflow_y": null,
            "padding": null,
            "right": null,
            "top": null,
            "visibility": null,
            "width": null
          }
        },
        "f6d14d229e5841eb9b1543a1db756e75": {
          "model_module": "@jupyter-widgets/base",
          "model_name": "LayoutModel",
          "model_module_version": "1.2.0",
          "state": {
            "_model_module": "@jupyter-widgets/base",
            "_model_module_version": "1.2.0",
            "_model_name": "LayoutModel",
            "_view_count": null,
            "_view_module": "@jupyter-widgets/base",
            "_view_module_version": "1.2.0",
            "_view_name": "LayoutView",
            "align_content": null,
            "align_items": null,
            "align_self": null,
            "border": null,
            "bottom": null,
            "display": null,
            "flex": null,
            "flex_flow": null,
            "grid_area": null,
            "grid_auto_columns": null,
            "grid_auto_flow": null,
            "grid_auto_rows": null,
            "grid_column": null,
            "grid_gap": null,
            "grid_row": null,
            "grid_template_areas": null,
            "grid_template_columns": null,
            "grid_template_rows": null,
            "height": null,
            "justify_content": null,
            "justify_items": null,
            "left": null,
            "margin": null,
            "max_height": null,
            "max_width": null,
            "min_height": null,
            "min_width": null,
            "object_fit": null,
            "object_position": null,
            "order": null,
            "overflow": null,
            "overflow_x": null,
            "overflow_y": null,
            "padding": null,
            "right": null,
            "top": null,
            "visibility": null,
            "width": null
          }
        },
        "eb1b7b13fb0a4df3be2ae7b373bdd725": {
          "model_module": "@jupyter-widgets/controls",
          "model_name": "DescriptionStyleModel",
          "model_module_version": "1.5.0",
          "state": {
            "_model_module": "@jupyter-widgets/controls",
            "_model_module_version": "1.5.0",
            "_model_name": "DescriptionStyleModel",
            "_view_count": null,
            "_view_module": "@jupyter-widgets/base",
            "_view_module_version": "1.2.0",
            "_view_name": "StyleView",
            "description_width": ""
          }
        },
        "c96daf365a1d47b5817b2fa86ed1cf6f": {
          "model_module": "@jupyter-widgets/base",
          "model_name": "LayoutModel",
          "model_module_version": "1.2.0",
          "state": {
            "_model_module": "@jupyter-widgets/base",
            "_model_module_version": "1.2.0",
            "_model_name": "LayoutModel",
            "_view_count": null,
            "_view_module": "@jupyter-widgets/base",
            "_view_module_version": "1.2.0",
            "_view_name": "LayoutView",
            "align_content": null,
            "align_items": null,
            "align_self": null,
            "border": null,
            "bottom": null,
            "display": null,
            "flex": null,
            "flex_flow": null,
            "grid_area": null,
            "grid_auto_columns": null,
            "grid_auto_flow": null,
            "grid_auto_rows": null,
            "grid_column": null,
            "grid_gap": null,
            "grid_row": null,
            "grid_template_areas": null,
            "grid_template_columns": null,
            "grid_template_rows": null,
            "height": null,
            "justify_content": null,
            "justify_items": null,
            "left": null,
            "margin": null,
            "max_height": null,
            "max_width": null,
            "min_height": null,
            "min_width": null,
            "object_fit": null,
            "object_position": null,
            "order": null,
            "overflow": null,
            "overflow_x": null,
            "overflow_y": null,
            "padding": null,
            "right": null,
            "top": null,
            "visibility": null,
            "width": null
          }
        }
      }
    }
  },
  "cells": [
    {
      "cell_type": "code",
      "execution_count": null,
      "metadata": {
        "id": "E9wMQEACFicg"
      },
      "outputs": [],
      "source": [
        "import numpy as np\n",
        "import matplotlib.pyplot as plt\n",
        "import seaborn as sns\n",
        "import pandas as pd\n",
        "from ipywidgets import interact"
      ]
    },
    {
      "cell_type": "code",
      "source": [
        "data=pd.read_csv(\"/content/dataset1.csv\")"
      ],
      "metadata": {
        "id": "TOjqw3FbFwUG"
      },
      "execution_count": null,
      "outputs": []
    },
    {
      "cell_type": "code",
      "source": [
        "data.head()"
      ],
      "metadata": {
        "colab": {
          "base_uri": "https://localhost:8080/",
          "height": 206
        },
        "id": "4NIwjaheHdvW",
        "outputId": "13c29b85-6c4f-4270-e870-8aa42936ae2b"
      },
      "execution_count": null,
      "outputs": [
        {
          "output_type": "execute_result",
          "data": {
            "text/plain": [
              "    N   P   K  temperature   humidity        ph    rainfall label\n",
              "0  90  42  43    20.879744  82.002744  6.502985  202.935536  rice\n",
              "1  85  58  41    21.770462  80.319644  7.038096  226.655537  rice\n",
              "2  60  55  44    23.004459  82.320763  7.840207  263.964248  rice\n",
              "3  74  35  40    26.491096  80.158363  6.980401  242.864034  rice\n",
              "4  78  42  42    20.130175  81.604873  7.628473  262.717340  rice"
            ],
            "text/html": [
              "\n",
              "  <div id=\"df-eba76fd8-c2da-4650-a4f6-97518bf8f6ae\">\n",
              "    <div class=\"colab-df-container\">\n",
              "      <div>\n",
              "<style scoped>\n",
              "    .dataframe tbody tr th:only-of-type {\n",
              "        vertical-align: middle;\n",
              "    }\n",
              "\n",
              "    .dataframe tbody tr th {\n",
              "        vertical-align: top;\n",
              "    }\n",
              "\n",
              "    .dataframe thead th {\n",
              "        text-align: right;\n",
              "    }\n",
              "</style>\n",
              "<table border=\"1\" class=\"dataframe\">\n",
              "  <thead>\n",
              "    <tr style=\"text-align: right;\">\n",
              "      <th></th>\n",
              "      <th>N</th>\n",
              "      <th>P</th>\n",
              "      <th>K</th>\n",
              "      <th>temperature</th>\n",
              "      <th>humidity</th>\n",
              "      <th>ph</th>\n",
              "      <th>rainfall</th>\n",
              "      <th>label</th>\n",
              "    </tr>\n",
              "  </thead>\n",
              "  <tbody>\n",
              "    <tr>\n",
              "      <th>0</th>\n",
              "      <td>90</td>\n",
              "      <td>42</td>\n",
              "      <td>43</td>\n",
              "      <td>20.879744</td>\n",
              "      <td>82.002744</td>\n",
              "      <td>6.502985</td>\n",
              "      <td>202.935536</td>\n",
              "      <td>rice</td>\n",
              "    </tr>\n",
              "    <tr>\n",
              "      <th>1</th>\n",
              "      <td>85</td>\n",
              "      <td>58</td>\n",
              "      <td>41</td>\n",
              "      <td>21.770462</td>\n",
              "      <td>80.319644</td>\n",
              "      <td>7.038096</td>\n",
              "      <td>226.655537</td>\n",
              "      <td>rice</td>\n",
              "    </tr>\n",
              "    <tr>\n",
              "      <th>2</th>\n",
              "      <td>60</td>\n",
              "      <td>55</td>\n",
              "      <td>44</td>\n",
              "      <td>23.004459</td>\n",
              "      <td>82.320763</td>\n",
              "      <td>7.840207</td>\n",
              "      <td>263.964248</td>\n",
              "      <td>rice</td>\n",
              "    </tr>\n",
              "    <tr>\n",
              "      <th>3</th>\n",
              "      <td>74</td>\n",
              "      <td>35</td>\n",
              "      <td>40</td>\n",
              "      <td>26.491096</td>\n",
              "      <td>80.158363</td>\n",
              "      <td>6.980401</td>\n",
              "      <td>242.864034</td>\n",
              "      <td>rice</td>\n",
              "    </tr>\n",
              "    <tr>\n",
              "      <th>4</th>\n",
              "      <td>78</td>\n",
              "      <td>42</td>\n",
              "      <td>42</td>\n",
              "      <td>20.130175</td>\n",
              "      <td>81.604873</td>\n",
              "      <td>7.628473</td>\n",
              "      <td>262.717340</td>\n",
              "      <td>rice</td>\n",
              "    </tr>\n",
              "  </tbody>\n",
              "</table>\n",
              "</div>\n",
              "      <button class=\"colab-df-convert\" onclick=\"convertToInteractive('df-eba76fd8-c2da-4650-a4f6-97518bf8f6ae')\"\n",
              "              title=\"Convert this dataframe to an interactive table.\"\n",
              "              style=\"display:none;\">\n",
              "        \n",
              "  <svg xmlns=\"http://www.w3.org/2000/svg\" height=\"24px\"viewBox=\"0 0 24 24\"\n",
              "       width=\"24px\">\n",
              "    <path d=\"M0 0h24v24H0V0z\" fill=\"none\"/>\n",
              "    <path d=\"M18.56 5.44l.94 2.06.94-2.06 2.06-.94-2.06-.94-.94-2.06-.94 2.06-2.06.94zm-11 1L8.5 8.5l.94-2.06 2.06-.94-2.06-.94L8.5 2.5l-.94 2.06-2.06.94zm10 10l.94 2.06.94-2.06 2.06-.94-2.06-.94-.94-2.06-.94 2.06-2.06.94z\"/><path d=\"M17.41 7.96l-1.37-1.37c-.4-.4-.92-.59-1.43-.59-.52 0-1.04.2-1.43.59L10.3 9.45l-7.72 7.72c-.78.78-.78 2.05 0 2.83L4 21.41c.39.39.9.59 1.41.59.51 0 1.02-.2 1.41-.59l7.78-7.78 2.81-2.81c.8-.78.8-2.07 0-2.86zM5.41 20L4 18.59l7.72-7.72 1.47 1.35L5.41 20z\"/>\n",
              "  </svg>\n",
              "      </button>\n",
              "      \n",
              "  <style>\n",
              "    .colab-df-container {\n",
              "      display:flex;\n",
              "      flex-wrap:wrap;\n",
              "      gap: 12px;\n",
              "    }\n",
              "\n",
              "    .colab-df-convert {\n",
              "      background-color: #E8F0FE;\n",
              "      border: none;\n",
              "      border-radius: 50%;\n",
              "      cursor: pointer;\n",
              "      display: none;\n",
              "      fill: #1967D2;\n",
              "      height: 32px;\n",
              "      padding: 0 0 0 0;\n",
              "      width: 32px;\n",
              "    }\n",
              "\n",
              "    .colab-df-convert:hover {\n",
              "      background-color: #E2EBFA;\n",
              "      box-shadow: 0px 1px 2px rgba(60, 64, 67, 0.3), 0px 1px 3px 1px rgba(60, 64, 67, 0.15);\n",
              "      fill: #174EA6;\n",
              "    }\n",
              "\n",
              "    [theme=dark] .colab-df-convert {\n",
              "      background-color: #3B4455;\n",
              "      fill: #D2E3FC;\n",
              "    }\n",
              "\n",
              "    [theme=dark] .colab-df-convert:hover {\n",
              "      background-color: #434B5C;\n",
              "      box-shadow: 0px 1px 3px 1px rgba(0, 0, 0, 0.15);\n",
              "      filter: drop-shadow(0px 1px 2px rgba(0, 0, 0, 0.3));\n",
              "      fill: #FFFFFF;\n",
              "    }\n",
              "  </style>\n",
              "\n",
              "      <script>\n",
              "        const buttonEl =\n",
              "          document.querySelector('#df-eba76fd8-c2da-4650-a4f6-97518bf8f6ae button.colab-df-convert');\n",
              "        buttonEl.style.display =\n",
              "          google.colab.kernel.accessAllowed ? 'block' : 'none';\n",
              "\n",
              "        async function convertToInteractive(key) {\n",
              "          const element = document.querySelector('#df-eba76fd8-c2da-4650-a4f6-97518bf8f6ae');\n",
              "          const dataTable =\n",
              "            await google.colab.kernel.invokeFunction('convertToInteractive',\n",
              "                                                     [key], {});\n",
              "          if (!dataTable) return;\n",
              "\n",
              "          const docLinkHtml = 'Like what you see? Visit the ' +\n",
              "            '<a target=\"_blank\" href=https://colab.research.google.com/notebooks/data_table.ipynb>data table notebook</a>'\n",
              "            + ' to learn more about interactive tables.';\n",
              "          element.innerHTML = '';\n",
              "          dataTable['output_type'] = 'display_data';\n",
              "          await google.colab.output.renderOutput(dataTable, element);\n",
              "          const docLink = document.createElement('div');\n",
              "          docLink.innerHTML = docLinkHtml;\n",
              "          element.appendChild(docLink);\n",
              "        }\n",
              "      </script>\n",
              "    </div>\n",
              "  </div>\n",
              "  "
            ]
          },
          "metadata": {},
          "execution_count": 3
        }
      ]
    },
    {
      "cell_type": "code",
      "source": [
        "data.shape\n"
      ],
      "metadata": {
        "colab": {
          "base_uri": "https://localhost:8080/"
        },
        "id": "S2boMeWsHi3g",
        "outputId": "90efc498-6bff-4e4a-b32f-0259feffdaba"
      },
      "execution_count": null,
      "outputs": [
        {
          "output_type": "execute_result",
          "data": {
            "text/plain": [
              "(2200, 8)"
            ]
          },
          "metadata": {},
          "execution_count": 4
        }
      ]
    },
    {
      "cell_type": "code",
      "source": [
        "data.isnull().sum()"
      ],
      "metadata": {
        "colab": {
          "base_uri": "https://localhost:8080/"
        },
        "id": "us44ZPwsHjxi",
        "outputId": "58910880-c8d6-48a8-9c99-21dd022896ec"
      },
      "execution_count": null,
      "outputs": [
        {
          "output_type": "execute_result",
          "data": {
            "text/plain": [
              "N              0\n",
              "P              0\n",
              "K              0\n",
              "temperature    0\n",
              "humidity       0\n",
              "ph             0\n",
              "rainfall       0\n",
              "label          0\n",
              "dtype: int64"
            ]
          },
          "metadata": {},
          "execution_count": 5
        }
      ]
    },
    {
      "cell_type": "code",
      "source": [
        "data['label'].value_counts()"
      ],
      "metadata": {
        "colab": {
          "base_uri": "https://localhost:8080/"
        },
        "id": "4Wnc1hVtHm-J",
        "outputId": "400fd2e6-7ad4-41bc-a070-1d349f07f128"
      },
      "execution_count": null,
      "outputs": [
        {
          "output_type": "execute_result",
          "data": {
            "text/plain": [
              "rice           100\n",
              "maize          100\n",
              "jute           100\n",
              "cotton         100\n",
              "coconut        100\n",
              "papaya         100\n",
              "orange         100\n",
              "apple          100\n",
              "muskmelon      100\n",
              "watermelon     100\n",
              "grapes         100\n",
              "mango          100\n",
              "banana         100\n",
              "pomegranate    100\n",
              "lentil         100\n",
              "blackgram      100\n",
              "mungbean       100\n",
              "mothbeans      100\n",
              "pigeonpeas     100\n",
              "kidneybeans    100\n",
              "chickpea       100\n",
              "coffee         100\n",
              "Name: label, dtype: int64"
            ]
          },
          "metadata": {},
          "execution_count": 6
        }
      ]
    },
    {
      "cell_type": "code",
      "source": [
        "print(\"average ph : {0:.2f}\".format(data['ph'].mean()))\n",
        "print(\"Average nitrogen requirement : {0:.2f}\".format(data['N'].mean()))\n",
        "print(\"Average phosphorous requirement :{0:2f}\".format(data['P'].mean()))\n",
        "print(\"Average potassiam requirement :{0:.2f}\".format(data['K'].mean()))\n",
        "print(\"Average temperature requirement :{0:.2f}\".format(data['temperature'].mean()))\n",
        "print(\"Average humidity requirement :{0:.2f}\".format(data['humidity'].mean()))\n",
        "print(\"Average rainfall requirement :{0:.2f}\".format(data['rainfall'].mean()))"
      ],
      "metadata": {
        "colab": {
          "base_uri": "https://localhost:8080/"
        },
        "id": "1hUds8PmHp1j",
        "outputId": "f8af536b-5f42-419d-9049-4c52c8dcb701"
      },
      "execution_count": null,
      "outputs": [
        {
          "output_type": "stream",
          "name": "stdout",
          "text": [
            "average ph : 6.47\n",
            "Average nitrogen requirement : 50.55\n",
            "Average phosphorous requirement :53.362727\n",
            "Average potassiam requirement :48.15\n",
            "Average temperature requirement :25.62\n",
            "Average humidity requirement :71.48\n",
            "Average rainfall requirement :103.46\n"
          ]
        }
      ]
    },
    {
      "cell_type": "code",
      "source": [
        "@interact\n",
        "def funct(crops=list(data['label'].value_counts().index)):\n",
        "    x=data[data['label']==crops]\n",
        "    print(\"-----------------------------------------------------------\")\n",
        "    print(\"Statistics for Nitrogen\")\n",
        "    print(\"min nitrogen requirement : {0:.2f}\".format(x['N'].min()))\n",
        "    print(\"Average nitrogen requirement : {0:.2f}\".format(x['N'].mean()))\n",
        "    print(\"max nitrogen requirement : {0:.2f}\".format(x['N'].max()))\n",
        "    print(\"-----------------------------------------------------------\")\n",
        "    print(\"Statistics for Phosphorous\")\n",
        "    print(\"min Phosphorous requirement : {0:.2f}\".format(x['P'].min()))\n",
        "    print(\"Average Phosphorous requirement : {0:.2f}\".format(x['P'].mean()))\n",
        "    print(\"max Phosphorous requirement : {0:.2f}\".format(x['P'].max()))\n",
        "    print(\"-----------------------------------------------------------\")\n",
        "    print(\"Statistics for Potassium\")\n",
        "    print(\"min Potassium requirement : {0:.2f}\".format(x['K'].min()))\n",
        "    print(\"Average Potassium requirement : {0:.2f}\".format(x['K'].mean()))\n",
        "    print(\"max Potassium requirement : {0:.2f}\".format(x['K'].max()))\n",
        "    print(\"-----------------------------------------------------------\")\n",
        "    print(\"Statistics for Temperature\")\n",
        "    print(\"min temperature requirement : {0:.2f}\".format(x['temperature'].min()))\n",
        "    print(\"Average temperature requirement : {0:.2f}\".format(x['temperature'].mean()))\n",
        "    print(\"max temperature requirement : {0:.2f}\".format(x['temperature'].max()))\n",
        "    print(\"-----------------------------------------------------------\")\n",
        "    print(\"Statistics for Humidity\")\n",
        "    print(\"min humidity requirement : {0:.2f}\".format(x['humidity'].min()))\n",
        "    print(\"Average humidity requirement : {0:.2f}\".format(x['humidity'].mean()))\n",
        "    print(\"max humidity requirement : {0:.2f}\".format(x['humidity'].max()))\n",
        "    print(\"-----------------------------------------------------------\")\n",
        "    print(\"Statistics for Ph\")\n",
        "    print(\"min ph requirement : {0:.2f}\".format(x['ph'].min()))\n",
        "    print(\"Average ph requirement : {0:.2f}\".format(x['ph'].mean()))\n",
        "    print(\"max ph requirement : {0:.2f}\".format(x['ph'].max()))\n",
        "    print(\"-----------------------------------------------------------\")\n",
        "    print(\"Statistics for Rainfall\")\n",
        "    print(\"min rainfall requirement : {0:.2f}\".format(x['rainfall'].min()))\n",
        "    print(\"Average rainfall requirement : {0:.2f}\".format(x['rainfall'].mean()))\n",
        "    print(\"max rainfall requirement : {0:.2f}\".format(x['rainfall'].max()))"
      ],
      "metadata": {
        "colab": {
          "base_uri": "https://localhost:8080/",
          "height": 657,
          "referenced_widgets": [
            "36858320cb7744a0834a0db753340723",
            "338e7e1e3270400fbcb824fdd315c06f",
            "ea63ee8b64754d5a970938e5d8567610",
            "62fee40fad7e4c41aca2c4054eb9f4a5",
            "ab227d17c30b42e9b63e6355135b1b62",
            "040ab056867f4eed83127d7868059978",
            "3b8d322970554ba6abd8a7e34d96757a"
          ]
        },
        "id": "gp_JIqk3Htcy",
        "outputId": "163878f0-0eb4-4629-a7af-641f9d718391"
      },
      "execution_count": null,
      "outputs": [
        {
          "output_type": "display_data",
          "data": {
            "text/plain": [
              "interactive(children=(Dropdown(description='crops', options=('rice', 'maize', 'jute', 'cotton', 'coconut', 'pa…"
            ],
            "application/vnd.jupyter.widget-view+json": {
              "version_major": 2,
              "version_minor": 0,
              "model_id": "36858320cb7744a0834a0db753340723"
            }
          },
          "metadata": {}
        }
      ]
    },
    {
      "cell_type": "code",
      "source": [
        "@interact\n",
        "def compare(condition=['N','P','K','temperature','humidity','ph','rainfall']):\n",
        "    x=condition\n",
        "    print(\"-----------------------------\")\n",
        "    print(\"Average \",x,\" requirements for all the crops.\")\n",
        "    print(\"chickpea   :{0:.2f}\".format(data[data['label']==\"chickpea\"][x].mean()))\n",
        "    print(\"watermelon :{0:.2f}\".format(data[data['label']==\"watermelon\"][x].mean()))\n",
        "    print(\"kidneybeans:{0:.2f}\".format(data[data['label']==\"kidneybeans\"][x].mean()))\n",
        "    print(\"cotton     :{0:.2f}\".format(data[data['label']==\"cotton\"][x].mean()))\n",
        "    print(\"grapes     :{0:.2f}\".format(data[data['label']==\"grapes\"][x].mean()))\n",
        "    print(\"jute       :{0:.2f}\".format(data[data['label']==\"jute\"][x].mean()))\n",
        "    print(\"pigeonpeas :{0:.2f}\".format(data[data['label']==\"pigeonpeas\"][x].mean()))\n",
        "    print(\"apple      :{0:.2f}\".format(data[data['label']==\"apple\"][x].mean()))\n",
        "    print(\"blackgram  :{0:.2f}\".format(data[data['label']==\"blackgram\"][x].mean()))\n",
        "    print(\"orange     :{0:.2f}\".format(data[data['label']==\"orange\"][x].mean()))\n",
        "    print(\"coffee     :{0:.2f}\".format(data[data['label']==\"coffee\"][x].mean()))\n",
        "    print(\"mothbeans  :{0:.2f}\".format(data[data['label']==\"mothbeans\"][x].mean()))\n",
        "    print(\"maize      :{0:.2f}\".format(data[data['label']==\"maize\"][x].mean()))\n",
        "    print(\"muskmelon  :{0:.2f}\".format(data[data['label']==\"muskmelon\"][x].mean()))\n",
        "    print(\"papaya     :{0:.2f}\".format(data[data['label']==\"papaya\"][x].mean()))\n",
        "    print(\"lentil     :{0:.2f}\".format(data[data['label']==\"lentil\"][x].mean()))\n",
        "    print(\"mungbean   :{0:.2f}\".format(data[data['label']==\"mungbean\"][x].mean()))\n",
        "    print(\"coconut    :{0:.2f}\".format(data[data['label']==\"coconut\"][x].mean()))\n",
        "    print(\"rice       :{0:.2f}\".format(data[data['label']==\"rice\"][x].mean()))\n",
        "    print(\"banana     :{0:.2f}\".format(data[data['label']==\"banana\"][x].mean()))\n",
        "    print(\"mango      :{0:.2f}\".format(data[data['label']==\"mango\"][x].mean()))\n",
        "    print(\"pomegranate:{0:.2f}\".format(data[data['label']==\"pomegranate\"][x].mean()))"
      ],
      "metadata": {
        "colab": {
          "base_uri": "https://localhost:8080/",
          "height": 466,
          "referenced_widgets": [
            "ac1e80376f0843deb2811981fac3ef57",
            "df0422d98be74a508d8bfef45a365777",
            "29132d9de6da427590105ff26f379092",
            "73b087f57487440eb867d781e357217f",
            "f6d14d229e5841eb9b1543a1db756e75",
            "eb1b7b13fb0a4df3be2ae7b373bdd725",
            "c96daf365a1d47b5817b2fa86ed1cf6f"
          ]
        },
        "id": "zoewDbbIHwbg",
        "outputId": "f5f1aeb4-6675-4551-9a9c-1fb448ae0102"
      },
      "execution_count": null,
      "outputs": [
        {
          "output_type": "display_data",
          "data": {
            "text/plain": [
              "interactive(children=(Dropdown(description='condition', options=('N', 'P', 'K', 'temperature', 'humidity', 'ph…"
            ],
            "application/vnd.jupyter.widget-view+json": {
              "version_major": 2,
              "version_minor": 0,
              "model_id": "ac1e80376f0843deb2811981fac3ef57"
            }
          },
          "metadata": {}
        }
      ]
    },
    {
      "cell_type": "code",
      "source": [
        "plt.subplot(2,4,1)\n",
        "sns.distplot(data['K'],color='Blue')\n",
        "plt.xlabel(\"ratio of K\")\n",
        "plt.grid(True)\n",
        "\n",
        "plt.subplot(2,4,2)\n",
        "sns.distplot(data['N'],color='Blue')\n",
        "plt.xlabel(\"ratio of N\")\n",
        "plt.grid(True)\n",
        "\n",
        "plt.subplot(2,4,3)\n",
        "sns.distplot(data['P'],color='Blue')\n",
        "plt.xlabel(\"ratio of P\")\n",
        "plt.grid(True)\n",
        "\n",
        "plt.subplot(2,4,4)\n",
        "sns.distplot(data['temperature'],color='Blue')\n",
        "plt.xlabel(\"temperature\")\n",
        "plt.grid(True)\n",
        "\n",
        "plt.subplot(2,4,5)\n",
        "sns.distplot(data['humidity'],color='Blue')\n",
        "plt.xlabel(\"humidity\")\n",
        "plt.grid(True)\n",
        "\n",
        "plt.subplot(2,4,6)\n",
        "sns.distplot(data['ph'],color='Blue')\n",
        "plt.xlabel(\"ph\")\n",
        "plt.grid(True)\n",
        "\n",
        "plt.subplot(2,4,7)\n",
        "sns.distplot(data['rainfall'],color='Blue')\n",
        "plt.xlabel(\"rainfall\")\n",
        "plt.grid(True)\n",
        "# set the spacing between subplots\n",
        "plt.subplots_adjust(left=0.1,\n",
        "\t\t\t\t\tbottom=0.1,\n",
        "\t\t\t\t\tright=2,\n",
        "\t\t\t\t\ttop=0.9,\n",
        "\t\t\t\t\twspace=0.4,\n",
        "\t\t\t\t\thspace=0.4)\n",
        "plt.show()\n",
        "\n",
        "\n",
        "#plt.subplot(2,4,9)\n",
        "#sns.histplot(data['rainfall'],color='Blue')\n",
        "#plt.xlabel(\"rate of rainfall\")\n",
        "#plt.grid(True)\n",
        "\n"
      ],
      "metadata": {
        "colab": {
          "base_uri": "https://localhost:8080/",
          "height": 1000
        },
        "id": "VYLUGnrkH1Qo",
        "outputId": "0a940222-3b92-46da-dcc8-005a81232c6d"
      },
      "execution_count": null,
      "outputs": [
        {
          "output_type": "stream",
          "name": "stderr",
          "text": [
            "<ipython-input-10-1fcbeddccdf4>:2: UserWarning: \n",
            "\n",
            "`distplot` is a deprecated function and will be removed in seaborn v0.14.0.\n",
            "\n",
            "Please adapt your code to use either `displot` (a figure-level function with\n",
            "similar flexibility) or `histplot` (an axes-level function for histograms).\n",
            "\n",
            "For a guide to updating your code to use the new functions, please see\n",
            "https://gist.github.com/mwaskom/de44147ed2974457ad6372750bbe5751\n",
            "\n",
            "  sns.distplot(data['K'],color='Blue')\n",
            "<ipython-input-10-1fcbeddccdf4>:7: UserWarning: \n",
            "\n",
            "`distplot` is a deprecated function and will be removed in seaborn v0.14.0.\n",
            "\n",
            "Please adapt your code to use either `displot` (a figure-level function with\n",
            "similar flexibility) or `histplot` (an axes-level function for histograms).\n",
            "\n",
            "For a guide to updating your code to use the new functions, please see\n",
            "https://gist.github.com/mwaskom/de44147ed2974457ad6372750bbe5751\n",
            "\n",
            "  sns.distplot(data['N'],color='Blue')\n",
            "<ipython-input-10-1fcbeddccdf4>:12: UserWarning: \n",
            "\n",
            "`distplot` is a deprecated function and will be removed in seaborn v0.14.0.\n",
            "\n",
            "Please adapt your code to use either `displot` (a figure-level function with\n",
            "similar flexibility) or `histplot` (an axes-level function for histograms).\n",
            "\n",
            "For a guide to updating your code to use the new functions, please see\n",
            "https://gist.github.com/mwaskom/de44147ed2974457ad6372750bbe5751\n",
            "\n",
            "  sns.distplot(data['P'],color='Blue')\n",
            "<ipython-input-10-1fcbeddccdf4>:17: UserWarning: \n",
            "\n",
            "`distplot` is a deprecated function and will be removed in seaborn v0.14.0.\n",
            "\n",
            "Please adapt your code to use either `displot` (a figure-level function with\n",
            "similar flexibility) or `histplot` (an axes-level function for histograms).\n",
            "\n",
            "For a guide to updating your code to use the new functions, please see\n",
            "https://gist.github.com/mwaskom/de44147ed2974457ad6372750bbe5751\n",
            "\n",
            "  sns.distplot(data['temperature'],color='Blue')\n",
            "<ipython-input-10-1fcbeddccdf4>:22: UserWarning: \n",
            "\n",
            "`distplot` is a deprecated function and will be removed in seaborn v0.14.0.\n",
            "\n",
            "Please adapt your code to use either `displot` (a figure-level function with\n",
            "similar flexibility) or `histplot` (an axes-level function for histograms).\n",
            "\n",
            "For a guide to updating your code to use the new functions, please see\n",
            "https://gist.github.com/mwaskom/de44147ed2974457ad6372750bbe5751\n",
            "\n",
            "  sns.distplot(data['humidity'],color='Blue')\n",
            "<ipython-input-10-1fcbeddccdf4>:27: UserWarning: \n",
            "\n",
            "`distplot` is a deprecated function and will be removed in seaborn v0.14.0.\n",
            "\n",
            "Please adapt your code to use either `displot` (a figure-level function with\n",
            "similar flexibility) or `histplot` (an axes-level function for histograms).\n",
            "\n",
            "For a guide to updating your code to use the new functions, please see\n",
            "https://gist.github.com/mwaskom/de44147ed2974457ad6372750bbe5751\n",
            "\n",
            "  sns.distplot(data['ph'],color='Blue')\n",
            "<ipython-input-10-1fcbeddccdf4>:32: UserWarning: \n",
            "\n",
            "`distplot` is a deprecated function and will be removed in seaborn v0.14.0.\n",
            "\n",
            "Please adapt your code to use either `displot` (a figure-level function with\n",
            "similar flexibility) or `histplot` (an axes-level function for histograms).\n",
            "\n",
            "For a guide to updating your code to use the new functions, please see\n",
            "https://gist.github.com/mwaskom/de44147ed2974457ad6372750bbe5751\n",
            "\n",
            "  sns.distplot(data['rainfall'],color='Blue')\n"
          ]
        },
        {
          "output_type": "display_data",
          "data": {
            "text/plain": [
              "<Figure size 640x480 with 7 Axes>"
            ],
            "image/png": "[encoded data removed]"
          },
          "metadata": {}
        }
      ]
    },
    {
      "cell_type": "code",
      "source": [
        "print(\"Some interesting patterns\")\n",
        "print(\"Crops requiring very high K\",data[data['K']>200]['label'].unique())\n",
        "print(\"Crops requiring very high N\",data[data['N']>120]['label'].unique())\n",
        "print(\"Crops requiring very high P\",data[data['P']>100]['label'].unique())\n",
        "print(\"Crops requiring very high temperature\",data[data['temperature']>40]['label'].unique())\n",
        "print(\"Crops requiring very low temperature\",data[data['temperature']<10]['label'].unique())\n",
        "print(\"Crops requiring very high rainfall\",data[data['rainfall']>120]['label'].unique())\n",
        "print(\"Crops requiring very high ph\",data[data['ph']>9]['label'].unique())\n",
        "print(\"Crops requiring very less ph\",data[data['ph']<4]['label'].unique())\n",
        "print(\"Crops requiring very high humidity\",data[data['humidity']>80]['label'].unique())"
      ],
      "metadata": {
        "colab": {
          "base_uri": "https://localhost:8080/"
        },
        "id": "59MHq0QGH5fB",
        "outputId": "52b8f7de-6788-4e1e-b34f-a22c59b49c65"
      },
      "execution_count": null,
      "outputs": [
        {
          "output_type": "stream",
          "name": "stdout",
          "text": [
            "Some interesting patterns\n",
            "Crops requiring very high K ['grapes' 'apple']\n",
            "Crops requiring very high N ['cotton']\n",
            "Crops requiring very high P ['grapes' 'apple']\n",
            "Crops requiring very high temperature ['grapes' 'papaya']\n",
            "Crops requiring very low temperature ['grapes']\n",
            "Crops requiring very high rainfall ['rice' 'kidneybeans' 'pigeonpeas' 'apple' 'papaya' 'coconut' 'jute'\n",
            " 'coffee']\n",
            "Crops requiring very high ph ['mothbeans']\n",
            "Crops requiring very less ph ['mothbeans']\n",
            "Crops requiring very high humidity ['rice' 'mungbean' 'pomegranate' 'banana' 'grapes' 'watermelon'\n",
            " 'muskmelon' 'apple' 'orange' 'papaya' 'coconut' 'cotton' 'jute']\n"
          ]
        }
      ]
    },
    {
      "cell_type": "code",
      "source": [
        "print(\"Crops according to seasons.\")\n",
        "print(\"Summer crops: \",data[(data['temperature']>30) & (data['humidity']>50)]['label'].unique())\n",
        "print(\"Winter crops: \",data[(data['temperature']<20) & (data['humidity']>30)]['label'].unique())\n",
        "print(\"Monsoon crops: \",data[(data['rainfall']>200) & (data['humidity']>30)]['label'].unique())"
      ],
      "metadata": {
        "colab": {
          "base_uri": "https://localhost:8080/"
        },
        "id": "UBewS_H7H-H2",
        "outputId": "ff9f422e-461c-4210-d635-44229bb91b9a"
      },
      "execution_count": null,
      "outputs": [
        {
          "output_type": "stream",
          "name": "stdout",
          "text": [
            "Crops according to seasons.\n",
            "Summer crops:  ['pigeonpeas' 'mothbeans' 'blackgram' 'mango' 'grapes' 'orange' 'papaya']\n",
            "Winter crops:  ['maize' 'pigeonpeas' 'lentil' 'pomegranate' 'grapes' 'orange']\n",
            "Monsoon crops:  ['rice' 'papaya' 'coconut']\n"
          ]
        }
      ]
    },
    {
      "cell_type": "code",
      "source": [
        "!pip install -U scikit-learn"
      ],
      "metadata": {
        "colab": {
          "base_uri": "https://localhost:8080/"
        },
        "id": "aIMPTlw7IDP2",
        "outputId": "01aa8b9d-70f8-4522-d148-7b8297188b34"
      },
      "execution_count": null,
      "outputs": [
        {
          "output_type": "stream",
          "name": "stdout",
          "text": [
            "Looking in indexes: https://pypi.org/simple, https://us-python.pkg.dev/colab-wheels/public/simple/\n",
            "Requirement already satisfied: scikit-learn in /usr/local/lib/python3.10/dist-packages (1.2.2)\n",
            "Requirement already satisfied: numpy>=1.17.3 in /usr/local/lib/python3.10/dist-packages (from scikit-learn) (1.22.4)\n",
            "Requirement already satisfied: scipy>=1.3.2 in /usr/local/lib/python3.10/dist-packages (from scikit-learn) (1.10.1)\n",
            "Requirement already satisfied: joblib>=1.1.1 in /usr/local/lib/python3.10/dist-packages (from scikit-learn) (1.2.0)\n",
            "Requirement already satisfied: threadpoolctl>=2.0.0 in /usr/local/lib/python3.10/dist-packages (from scikit-learn) (3.1.0)\n"
          ]
        }
      ]
    },
    {
      "cell_type": "code",
      "source": [
        "from sklearn.cluster import KMeans"
      ],
      "metadata": {
        "id": "oTmLgk68IEDh"
      },
      "execution_count": null,
      "outputs": []
    },
    {
      "cell_type": "code",
      "source": [
        "x=data.drop(['label'], axis=1)\n",
        "x=x.values\n",
        "x.shape"
      ],
      "metadata": {
        "colab": {
          "base_uri": "https://localhost:8080/"
        },
        "id": "mEOTr9I3IG9e",
        "outputId": "de7ac99c-0d56-47cf-b090-8938c85b858e"
      },
      "execution_count": null,
      "outputs": [
        {
          "output_type": "execute_result",
          "data": {
            "text/plain": [
              "(2200, 7)"
            ]
          },
          "metadata": {},
          "execution_count": 15
        }
      ]
    },
    {
      "cell_type": "code",
      "source": [
        "#now we have to determine the number of clusters that are to be  created in the dataset .we do so by using an elbow chart\n",
        "#lets determine the optimim number of clusters within the dataset\n",
        "plt.rcParams['figure.figsize']=(10,4)\n",
        "WCSS=[]\n",
        "for i in range(1,11):\n",
        "    km=KMeans(n_clusters=i, init='k-means++',max_iter=100,n_init=10,random_state=0)\n",
        "    km.fit(x)\n",
        "    WCSS.append(km.inertia_)\n",
        "plt.plot(range(1,11),WCSS)\n",
        "plt.title('The elbow method',fontsize=20)\n",
        "plt.xlabel(\"No. of clusters.\")\n",
        "plt.ylabel('WCSS')\n",
        "plt.show()"
      ],
      "metadata": {
        "colab": {
          "base_uri": "https://localhost:8080/",
          "height": 418
        },
        "id": "rnnZ1mPkILAI",
        "outputId": "af9db6e6-3003-4422-c678-7bff048b160d"
      },
      "execution_count": null,
      "outputs": [
        {
          "output_type": "display_data",
          "data": {
            "text/plain": [
              "<Figure size 1000x400 with 1 Axes>"
            ],
            "image/png": "[encoded data removed]"
          },
          "metadata": {}
        }
      ]
    },
    {
      "cell_type": "code",
      "source": [
        "#From the elbow method we can clearly state that there are two elbows at 3 and 4 , we take the bigger number so number\n",
        "#of clusters are 4. Now training data by applying kmeans clustering method.\n",
        "km=KMeans(n_clusters=4,init='k-means++',max_iter=300,n_init=10,random_state=0)\n",
        "y_means=km.fit_predict(x)\n",
        "\n",
        "##Results\n",
        "a=data['label']\n",
        "y_means=pd.DataFrame(y_means)\n",
        "z=pd.concat([y_means,a],axis=1)\n",
        "z=z.rename(columns={0:'cluster'})\n",
        "\n",
        "#lets check the cluster of each crop\n",
        "print(\"Lets check the results after applying the KMeans clustering analysis\\n\")\n",
        "print(\"crops in 1st cluster:\",z[z['cluster']==0]['label'].unique())\n",
        "print(\"----------------------------------------------------------\")\n",
        "print(\"crops in 2nd cluster:\",z[z['cluster']==1]['label'].unique())\n",
        "print(\"----------------------------------------------------------\")\n",
        "print(\"crops in 3rd cluster:\",z[z['cluster']==2]['label'].unique())\n",
        "print(\"----------------------------------------------------------\")\n",
        "print(\"crops in 4th cluster:\",z[z['cluster']==3]['label'].unique())"
      ],
      "metadata": {
        "colab": {
          "base_uri": "https://localhost:8080/"
        },
        "id": "DZcgRmVtIMDp",
        "outputId": "dd6d69dc-5b89-4d09-e442-a3ea77a4ee2c"
      },
      "execution_count": null,
      "outputs": [
        {
          "output_type": "stream",
          "name": "stdout",
          "text": [
            "Lets check the results after applying the KMeans clustering analysis\n",
            "\n",
            "crops in 1st cluster: ['maize' 'chickpea' 'kidneybeans' 'pigeonpeas' 'mothbeans' 'mungbean'\n",
            " 'blackgram' 'lentil' 'pomegranate' 'mango' 'orange' 'papaya' 'coconut']\n",
            "----------------------------------------------------------\n",
            "crops in 2nd cluster: ['maize' 'banana' 'watermelon' 'muskmelon' 'papaya' 'cotton' 'coffee']\n",
            "----------------------------------------------------------\n",
            "crops in 3rd cluster: ['grapes' 'apple']\n",
            "----------------------------------------------------------\n",
            "crops in 4th cluster: ['rice' 'pigeonpeas' 'papaya' 'coconut' 'jute' 'coffee']\n"
          ]
        }
      ]
    },
    {
      "cell_type": "code",
      "source": [
        "#splitting dataset for predictive modeling\n",
        "y=data['label']\n",
        "x=data.drop(['label'],axis=1)\n",
        "print(y.shape)\n",
        "print(x.shape)"
      ],
      "metadata": {
        "colab": {
          "base_uri": "https://localhost:8080/"
        },
        "id": "t_yf1cMBIPh9",
        "outputId": "e7fc16ff-daa0-43b9-8622-cf2ec0d761e5"
      },
      "execution_count": null,
      "outputs": [
        {
          "output_type": "stream",
          "name": "stdout",
          "text": [
            "(2200,)\n",
            "(2200, 7)\n"
          ]
        }
      ]
    },
    {
      "cell_type": "code",
      "source": [
        "#lets split data into two sets : training and testing for validating the result produced by the predictive model.\n",
        "from sklearn.model_selection import train_test_split\n",
        "x_train, x_test,y_train,y_test=train_test_split(x,y,test_size=0.2,random_state=0)\n",
        "print(\"The shape of x_train:\",x_train.shape)\n",
        "print(\"The shape of x_test:\",x_test.shape)\n",
        "print(\"The shape of y_train:\",y_train.shape)\n",
        "print(\"The shape of x_test:\",x_test.shape)"
      ],
      "metadata": {
        "colab": {
          "base_uri": "https://localhost:8080/"
        },
        "id": "WC-4Do2fISFq",
        "outputId": "9c6a340c-ee62-4e7c-8cdd-1f119946a9d3"
      },
      "execution_count": null,
      "outputs": [
        {
          "output_type": "stream",
          "name": "stdout",
          "text": [
            "The shape of x_train: (1760, 7)\n",
            "The shape of x_test: (440, 7)\n",
            "The shape of y_train: (1760,)\n",
            "The shape of x_test: (440, 7)\n"
          ]
        }
      ]
    },
    {
      "cell_type": "code",
      "source": [
        "#Now this is the time to create predictive model .For this first we haveto import logistic regression algorithm\n",
        "from sklearn.linear_model import LogisticRegression\n",
        "model=LogisticRegression()\n",
        "model.fit(x_train,y_train)\n",
        "y_pred=model.predict(x_test)"
      ],
      "metadata": {
        "colab": {
          "base_uri": "https://localhost:8080/"
        },
        "id": "GAO_I4cYIU3R",
        "outputId": "4d22e4f3-a93d-4d27-b24d-774d6c569548"
      },
      "execution_count": null,
      "outputs": [
        {
          "output_type": "stream",
          "name": "stderr",
          "text": [
            "/usr/local/lib/python3.10/dist-packages/sklearn/linear_model/_logistic.py:458: ConvergenceWarning: lbfgs failed to converge (status=1):\n",
            "STOP: TOTAL NO. of ITERATIONS REACHED LIMIT.\n",
            "\n",
            "Increase the number of iterations (max_iter) or scale the data as shown in:\n",
            "    https://scikit-learn.org/stable/modules/preprocessing.html\n",
            "Please also refer to the documentation for alternative solver options:\n",
            "    https://scikit-learn.org/stable/modules/linear_model.html#logistic-regression\n",
            "  n_iter_i = _check_optimize_result(\n"
          ]
        }
      ]
    },
    {
      "cell_type": "code",
      "source": [
        "prediction=model.predict((np.array([[20\n",
        "                                     ,50\n",
        "                                     ,80\n",
        "                                     ,20\n",
        "                                     ,80\n",
        "                                     ,7\n",
        "                                     ,50]])))\n",
        "print(\"the suggestive crop for given climatic condition is :\",prediction)"
      ],
      "metadata": {
        "colab": {
          "base_uri": "https://localhost:8080/"
        },
        "id": "zagHMog7IYOb",
        "outputId": "00fb89d6-6ab0-46a6-d326-682c1d8a27d3"
      },
      "execution_count": null,
      "outputs": [
        {
          "output_type": "stream",
          "name": "stdout",
          "text": [
            "the suggestive crop for given climatic condition is : ['papaya']\n"
          ]
        },
        {
          "output_type": "stream",
          "name": "stderr",
          "text": [
            "/usr/local/lib/python3.10/dist-packages/sklearn/base.py:439: UserWarning: X does not have valid feature names, but LogisticRegression was fitted with feature names\n",
            "  warnings.warn(\n"
          ]
        }
      ]
    }
  ]
}